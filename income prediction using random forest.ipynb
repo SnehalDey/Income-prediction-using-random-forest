{
 "cells": [
  {
   "cell_type": "code",
   "execution_count": 1,
   "metadata": {},
   "outputs": [],
   "source": [
    "import numpy as np\n",
    "import matplotlib.pyplot as plt\n",
    "from mpl_toolkits.mplot3d import Axes3D\n",
    "import os.path\n",
    "import pandas as pd\n",
    "import seaborn as sns\n",
    "from sklearn.model_selection import train_test_split\n",
    "from sklearn import linear_model\n",
    "from sklearn import metrics\n",
    "from sklearn.ensemble import RandomForestRegressor\n",
    "from sklearn.datasets import make_regression\n",
    "from sklearn.preprocessing import OneHotEncoder\n",
    "from sklearn.impute import SimpleImputer\n",
    "from sklearn.preprocessing import MinMaxScaler\n",
    "from sklearn.preprocessing import KBinsDiscretizer\n",
    "from sklearn import preprocessing\n",
    "import category_encoders as ce"
   ]
  },
  {
   "cell_type": "code",
   "execution_count": 2,
   "metadata": {},
   "outputs": [],
   "source": [
    "#importing dataset\n",
    "dataset=pd.read_csv('C:/Users/BadBoy/Desktop/kaggle2/data.csv',low_memory=False)\n",
    "dataset=dataset.drop(\"Instance\",axis=1)\n",
    "testset=pd.read_csv('C:/Users/BadBoy/Desktop/kaggle2/test.csv',low_memory=False)\n",
    "testset=testset.drop(\"Instance\",axis=1)\n",
    "#merge=pd.concat([dataset,testset])"
   ]
  },
  {
   "cell_type": "code",
   "execution_count": 3,
   "metadata": {},
   "outputs": [],
   "source": [
    "dataset = dataset.rename(columns={'Year of Record': 'Year'})\n",
    "dataset = dataset.rename(columns={'Yearly Income in addition to Salary (e.g. Rental Income)': 'Extra'})\n",
    "dataset = dataset.rename(columns={'Work Experience in Current Job [years]': 'Experience'})\n",
    "dataset = dataset.rename(columns={'Crime Level in the City of Employement':'Crime'})\n",
    "dataset= dataset.rename(columns={'Total Yearly Income [EUR]':'Income'})\n",
    "dataset= dataset.rename(columns={'Body Height [cm]':'Height'})\n",
    "\n",
    "testset = testset.rename(columns={'Year of Record': 'Year'})\n",
    "testset = testset.rename(columns={'Yearly Income in addition to Salary (e.g. Rental Income)': 'Extra'})\n",
    "testset = testset.rename(columns={'Work Experience in Current Job [years]': 'Experience'})\n",
    "testset = testset.rename(columns={'Crime Level in the City of Employement':'Crime'})\n",
    "testset = testset.rename(columns={'Total Yearly Income [EUR]':'Income'})\n",
    "testset = testset.rename(columns={'Body Height [cm]':'Height'})"
   ]
  },
  {
   "cell_type": "code",
   "execution_count": 4,
   "metadata": {},
   "outputs": [],
   "source": [
    "dataset['Gender'].replace(['f','female'],'female',inplace=True)\n",
    "testset['Gender'].replace(['f','female'],'female',inplace=True)\n",
    "#changing Extra column to int by removing EUR\n",
    "dataset['Extra']=dataset['Extra'].str.replace('\\D+','').astype(int)\n",
    "testset['Extra']=testset['Extra'].str.replace('\\D+','').astype(int)"
   ]
  },
  {
   "cell_type": "code",
   "execution_count": 5,
   "metadata": {},
   "outputs": [
    {
     "data": {
      "text/plain": [
       "<matplotlib.axes._subplots.AxesSubplot at 0xdb56cf8>"
      ]
     },
     "execution_count": 5,
     "metadata": {},
     "output_type": "execute_result"
    },
    {
     "data": {
      "image/png": "[encoded data removed]",
      "text/plain": [
       "<Figure size 432x288 with 1 Axes>"
      ]
     },
     "metadata": {
      "needs_background": "light"
     },
     "output_type": "display_data"
    }
   ],
   "source": [
    "\n",
    "incomePerc = dataset[[\"Gender\", \"Income\"]].groupby(['Gender'],as_index=False).mean()\n",
    "sns.barplot(x='Gender', y='Income', data=incomePerc)"
   ]
  },
  {
   "cell_type": "code",
   "execution_count": 6,
   "metadata": {},
   "outputs": [
    {
     "data": {
      "text/plain": [
       "<matplotlib.axes._subplots.AxesSubplot at 0x11204dd8>"
      ]
     },
     "execution_count": 6,
     "metadata": {},
     "output_type": "execute_result"
    },
    {
     "data": {
      "image/png": "[encoded data removed]",
      "text/plain": [
       "<Figure size 432x288 with 1 Axes>"
      ]
     },
     "metadata": {
      "needs_background": "light"
     },
     "output_type": "display_data"
    }
   ],
   "source": [
    "\n",
    "incomePerc = dataset[[\"Satisfation with employer\", \"Income\"]].groupby(['Satisfation with employer'],as_index=False).mean()\n",
    "sns.barplot(x='Satisfation with employer', y='Income', data=incomePerc)"
   ]
  },
  {
   "cell_type": "code",
   "execution_count": 7,
   "metadata": {},
   "outputs": [
    {
     "data": {
      "text/plain": [
       "<matplotlib.axes._subplots.AxesSubplot at 0x11130198>"
      ]
     },
     "execution_count": 7,
     "metadata": {},
     "output_type": "execute_result"
    },
    {
     "data": {
      "image/png": "[encoded data removed]",
      "text/plain": [
       "<Figure size 432x288 with 1 Axes>"
      ]
     },
     "metadata": {
      "needs_background": "light"
     },
     "output_type": "display_data"
    }
   ],
   "source": [
    "\n",
    "incomePerc = dataset[[\"University Degree\", \"Income\"]].groupby(['University Degree'],as_index=False).mean()\n",
    "sns.barplot(x='University Degree', y='Income', data=incomePerc)"
   ]
  },
  {
   "cell_type": "code",
   "execution_count": 8,
   "metadata": {},
   "outputs": [
    {
     "name": "stdout",
     "output_type": "stream",
     "text": [
      "Year                          4013\n",
      "Housing Situation                0\n",
      "Crime                            0\n",
      "Experience                       0\n",
      "Satisfation with employer    38087\n",
      "Gender                       74127\n",
      "Age                              0\n",
      "Country                          0\n",
      "Size of City                     0\n",
      "Profession                    2853\n",
      "University Degree            80600\n",
      "Wears Glasses                    0\n",
      "Hair Color                   70211\n",
      "Height                           0\n",
      "Extra                            0\n",
      "Income                           0\n",
      "dtype: int64\n",
      "(1048187, 16)\n"
     ]
    }
   ],
   "source": [
    "print(dataset.isnull().sum())\n",
    "index_to_drop = dataset[((dataset.Gender == 'unknown') | (pd.isnull(dataset.Gender))) & ((pd.isnull(dataset.Profession)))].index\n",
    "dataset.drop(index_to_drop,inplace= True)\n",
    "print(dataset.shape)"
   ]
  },
  {
   "cell_type": "code",
   "execution_count": 9,
   "metadata": {},
   "outputs": [
    {
     "name": "stdout",
     "output_type": "stream",
     "text": [
      "Year                           5492\n",
      "Housing Situation                 0\n",
      "Crime                             0\n",
      "Experience                        0\n",
      "Satisfation with employer     51485\n",
      "Gender                       100244\n",
      "Age                               0\n",
      "Country                           1\n",
      "Size of City                      0\n",
      "Profession                     3507\n",
      "University Degree            109309\n",
      "Wears Glasses                     0\n",
      "Hair Color                    94824\n",
      "Height                            0\n",
      "Extra                             0\n",
      "dtype: int64\n",
      "(1048187, 15)\n",
      "(369438, 15)\n",
      "(1417625, 15)\n"
     ]
    }
   ],
   "source": [
    "y = dataset['Income']\n",
    "train_model = dataset.drop(columns =['Income'])\n",
    "test_model =  testset.drop(columns =['Income'])                                                     \n",
    "combined_df = pd.concat([train_model, test_model])\n",
    "print(combined_df.isnull().sum())\n",
    "print(train_model.shape)\n",
    "print(test_model.shape)\n",
    "print(combined_df.shape)"
   ]
  },
  {
   "cell_type": "code",
   "execution_count": 10,
   "metadata": {},
   "outputs": [
    {
     "name": "stdout",
     "output_type": "stream",
     "text": [
      "<class 'pandas.core.frame.DataFrame'>\n",
      "Int64Index: 1417625 entries, 0 to 369437\n",
      "Data columns (total 15 columns):\n",
      "Year                         1412133 non-null float64\n",
      "Housing Situation            1417625 non-null object\n",
      "Crime                        1417625 non-null int64\n",
      "Experience                   1417625 non-null object\n",
      "Satisfation with employer    1366140 non-null object\n",
      "Gender                       1317381 non-null object\n",
      "Age                          1417625 non-null int64\n",
      "Country                      1417624 non-null object\n",
      "Size of City                 1417625 non-null int64\n",
      "Profession                   1414118 non-null object\n",
      "University Degree            1308316 non-null object\n",
      "Wears Glasses                1417625 non-null int64\n",
      "Hair Color                   1322801 non-null object\n",
      "Height                       1417625 non-null int64\n",
      "Extra                        1417625 non-null int32\n",
      "dtypes: float64(1), int32(1), int64(5), object(8)\n",
      "memory usage: 167.6+ MB\n"
     ]
    }
   ],
   "source": [
    "combined_df.info()"
   ]
  },
  {
   "cell_type": "code",
   "execution_count": 11,
   "metadata": {},
   "outputs": [
    {
     "data": {
      "text/plain": [
       "array(['No', 'Bachelor', 'Master', nan, 'PhD', '0'], dtype=object)"
      ]
     },
     "execution_count": 11,
     "metadata": {},
     "output_type": "execute_result"
    }
   ],
   "source": [
    "\n",
    "\n",
    "combined_df['University Degree'].unique()"
   ]
  },
  {
   "cell_type": "code",
   "execution_count": 12,
   "metadata": {},
   "outputs": [
    {
     "data": {
      "text/plain": [
       "array(['0', 'nA', 'Castle', 'Large House', 'Medium House', 'Small House',\n",
       "       'Large Apartment', 'Medium Apartment', 'Small Apartment'],\n",
       "      dtype=object)"
      ]
     },
     "execution_count": 12,
     "metadata": {},
     "output_type": "execute_result"
    }
   ],
   "source": [
    "combined_df['Housing Situation'].unique()"
   ]
  },
  {
   "cell_type": "code",
   "execution_count": 13,
   "metadata": {},
   "outputs": [
    {
     "data": {
      "text/plain": [
       "array(['other', 'female', 'male', nan, 'unknown', '0'], dtype=object)"
      ]
     },
     "execution_count": 13,
     "metadata": {},
     "output_type": "execute_result"
    }
   ],
   "source": [
    "combined_df.Gender.unique()"
   ]
  },
  {
   "cell_type": "code",
   "execution_count": 14,
   "metadata": {},
   "outputs": [
    {
     "data": {
      "text/plain": [
       "count    1.417625e+06\n",
       "mean     3.733149e+01\n",
       "std      1.599372e+01\n",
       "min      1.400000e+01\n",
       "25%      2.400000e+01\n",
       "50%      3.500000e+01\n",
       "75%      4.800000e+01\n",
       "max      1.260000e+02\n",
       "Name: Age, dtype: float64"
      ]
     },
     "execution_count": 14,
     "metadata": {},
     "output_type": "execute_result"
    }
   ],
   "source": [
    "combined_df.Age.describe()"
   ]
  },
  {
   "cell_type": "code",
   "execution_count": 15,
   "metadata": {},
   "outputs": [],
   "source": [
    "\n",
    "\n",
    "imp_gender = SimpleImputer(missing_values=np.nan, strategy='constant',fill_value='Missing')\n",
    "imp_Satisfation = SimpleImputer(missing_values=np.nan, strategy='constant',fill_value='Missing')\n",
    "imp_university = SimpleImputer(missing_values=np.nan, strategy='constant',fill_value='Missing')\n",
    "imp_profession = SimpleImputer(missing_values=np.nan, strategy='constant',fill_value='Missing')\n",
    "\n",
    "\n",
    "imp_Satisfation = imp_Satisfation.fit(combined_df[['Satisfation with employer']])\n",
    "combined_df['Satisfation with employer'] = imp_Satisfation.transform(combined_df[['Satisfation with employer']]).ravel()\n",
    "\n",
    "imp_gender = imp_gender.fit(combined_df[['Gender']])\n",
    "combined_df['Gender'] = imp_gender.transform(combined_df[['Gender']]).ravel()\n",
    "\n",
    "imp_university = imp_university.fit(combined_df[['University Degree']])\n",
    "combined_df['University Degree'] = imp_university.transform(combined_df[['University Degree']]).ravel()\n",
    "\n",
    "imp_profession = imp_university.fit(combined_df[['Profession']])\n",
    "combined_df['Profession'] = imp_university.transform(combined_df[['Profession']]).ravel()\n",
    "\n",
    "combined_df['Gender'].replace(['0','other','unknown'],'Missing',inplace = True)\n",
    "combined_df['University Degree'].replace('0','No',inplace = True)\n",
    "combined_df['Housing Situation'].replace(['0','nA'],'Missing',inplace = True)\n",
    "avg_year = combined_df[\"Year\"].astype(\"float\").mean(axis=0)\n",
    "avg_age = combined_df[\"Age\"].astype(\"float\").mean(axis=0)\n",
    "\n",
    "combined_df[\"Year\"].replace(np.nan, avg_year, inplace=True)\n",
    "combined_df[\"Age\"].replace(np.nan, avg_age, inplace=True)\n",
    "\n",
    "\n",
    "combined_df.Experience.replace([\"#NUM!\"], np.nan, inplace=True)\n",
    "combined_df['Experience']=combined_df['Experience'].fillna(combined_df.Experience.median())\n",
    "avg_exp = combined_df[\"Experience\"].astype(\"float\").mean(axis=0)\n",
    "countries_count_greaterthan100 = combined_df.Country.value_counts()[combined_df.Country.value_counts() > 100]\n",
    "countrylist = countries_count_greaterthan100.index.tolist()\n",
    "combined_df.Country.where(combined_df.Country.isin(countrylist),'notimportant',inplace = True)\n",
    "combined_df.Age.where(combined_df.Age <= 100,109.33,inplace = True)\n",
    "#decide what to do for unkown gender"
   ]
  },
  {
   "cell_type": "code",
   "execution_count": 16,
   "metadata": {},
   "outputs": [
    {
     "data": {
      "text/plain": [
       "array(['17', '4.9', '21', '18', '8', '15', '12', '6.3', '13', '14', '22',\n",
       "       '26', '10', '29', '23', '11', '24', '20', '19', '9', '16', '25',\n",
       "       '30', '6', '27', '31', '7', '28', '5.6', '34', '35', '33', '38',\n",
       "       '3.5', '32', '37', '36', '4.2', '4', 15.0, '5', '39', '42', '44',\n",
       "       '40', '2.8', '41', '3', '2.1', '1.4', '43', '0.7', '45', '0', '48',\n",
       "       '2', '47'], dtype=object)"
      ]
     },
     "execution_count": 16,
     "metadata": {},
     "output_type": "execute_result"
    }
   ],
   "source": [
    "combined_df['Experience'].unique()"
   ]
  },
  {
   "cell_type": "code",
   "execution_count": 17,
   "metadata": {},
   "outputs": [
    {
     "data": {
      "image/png": "[encoded data removed]",
      "text/plain": [
       "<Figure size 1080x360 with 2 Axes>"
      ]
     },
     "metadata": {
      "needs_background": "light"
     },
     "output_type": "display_data"
    }
   ],
   "source": [
    "age_bin = np.linspace(min(combined_df[\"Age\"]),max(combined_df[\"Age\"]),4)\n",
    "age_group = [\"age0\",\"age1\",\"age2\"]\n",
    "combined_df[\"Age_Binned\"] = pd.cut(combined_df['Age'], bins=age_bin, labels=age_group)\n",
    "\n",
    "f, axes = plt.subplots(1, 2,figsize=(15,5))\n",
    "p1=sns.countplot(combined_df['Age_Binned'],ax=axes[0])\n",
    "for p in p1.patches:\n",
    "    height = p.get_height()\n",
    "    p1.text(p.get_x()+p.get_width()/2,height + 50,height,ha=\"center\")       \n",
    "axes[0].set(xlabel='Age')\n",
    "axes[0].yaxis.tick_left()\n",
    "\n"
   ]
  },
  {
   "cell_type": "code",
   "execution_count": 17,
   "metadata": {},
   "outputs": [
    {
     "name": "stderr",
     "output_type": "stream",
     "text": [
      "C:\\Users\\BadBoy\\Anaconda2\\lib\\site-packages\\sklearn\\preprocessing\\data.py:334: DataConversionWarning: Data with input dtype int64 were all converted to float64 by MinMaxScaler.\n",
      "  return self.partial_fit(X, y)\n",
      "C:\\Users\\BadBoy\\Anaconda2\\lib\\site-packages\\sklearn\\preprocessing\\data.py:334: DataConversionWarning: Data with input dtype int32 were all converted to float64 by MinMaxScaler.\n",
      "  return self.partial_fit(X, y)\n",
      "C:\\Users\\BadBoy\\Anaconda2\\lib\\site-packages\\sklearn\\preprocessing\\data.py:334: DataConversionWarning: Data with input dtype object were all converted to float64 by MinMaxScaler.\n",
      "  return self.partial_fit(X, y)\n"
     ]
    },
    {
     "data": {
      "text/html": [
       "<div>\n",
       "<style scoped>\n",
       "    .dataframe tbody tr th:only-of-type {\n",
       "        vertical-align: middle;\n",
       "    }\n",
       "\n",
       "    .dataframe tbody tr th {\n",
       "        vertical-align: top;\n",
       "    }\n",
       "\n",
       "    .dataframe thead th {\n",
       "        text-align: right;\n",
       "    }\n",
       "</style>\n",
       "<table border=\"1\" class=\"dataframe\">\n",
       "  <thead>\n",
       "    <tr style=\"text-align: right;\">\n",
       "      <th></th>\n",
       "      <th>Year</th>\n",
       "      <th>Housing Situation</th>\n",
       "      <th>Crime</th>\n",
       "      <th>Experience</th>\n",
       "      <th>Satisfation with employer</th>\n",
       "      <th>Gender</th>\n",
       "      <th>Age</th>\n",
       "      <th>Country</th>\n",
       "      <th>Size of City</th>\n",
       "      <th>Profession</th>\n",
       "      <th>University Degree</th>\n",
       "      <th>Wears Glasses</th>\n",
       "      <th>Hair Color</th>\n",
       "      <th>Height</th>\n",
       "      <th>Extra</th>\n",
       "    </tr>\n",
       "  </thead>\n",
       "  <tbody>\n",
       "    <tr>\n",
       "      <th>0</th>\n",
       "      <td>0.0</td>\n",
       "      <td>Missing</td>\n",
       "      <td>0.160194</td>\n",
       "      <td>0.354167</td>\n",
       "      <td>Unhappy</td>\n",
       "      <td>Missing</td>\n",
       "      <td>0.325186</td>\n",
       "      <td>Afghanistan</td>\n",
       "      <td>0.000503</td>\n",
       "      <td>group head</td>\n",
       "      <td>No</td>\n",
       "      <td>1</td>\n",
       "      <td>Black</td>\n",
       "      <td>0.526316</td>\n",
       "      <td>0.0</td>\n",
       "    </tr>\n",
       "    <tr>\n",
       "      <th>1</th>\n",
       "      <td>0.0</td>\n",
       "      <td>Missing</td>\n",
       "      <td>0.121359</td>\n",
       "      <td>0.102083</td>\n",
       "      <td>Unhappy</td>\n",
       "      <td>female</td>\n",
       "      <td>0.031470</td>\n",
       "      <td>Afghanistan</td>\n",
       "      <td>0.045570</td>\n",
       "      <td>heavy vehicle and mobile equipment service tec...</td>\n",
       "      <td>No</td>\n",
       "      <td>0</td>\n",
       "      <td>Blond</td>\n",
       "      <td>0.473684</td>\n",
       "      <td>0.0</td>\n",
       "    </tr>\n",
       "    <tr>\n",
       "      <th>2</th>\n",
       "      <td>0.0</td>\n",
       "      <td>Missing</td>\n",
       "      <td>0.165049</td>\n",
       "      <td>0.437500</td>\n",
       "      <td>Unhappy</td>\n",
       "      <td>female</td>\n",
       "      <td>0.356656</td>\n",
       "      <td>Afghanistan</td>\n",
       "      <td>0.016445</td>\n",
       "      <td>sorter</td>\n",
       "      <td>Bachelor</td>\n",
       "      <td>0</td>\n",
       "      <td>Blond</td>\n",
       "      <td>0.326316</td>\n",
       "      <td>0.0</td>\n",
       "    </tr>\n",
       "    <tr>\n",
       "      <th>3</th>\n",
       "      <td>0.0</td>\n",
       "      <td>Missing</td>\n",
       "      <td>0.339806</td>\n",
       "      <td>0.375000</td>\n",
       "      <td>Average</td>\n",
       "      <td>female</td>\n",
       "      <td>0.293717</td>\n",
       "      <td>Albania</td>\n",
       "      <td>0.001189</td>\n",
       "      <td>quality control senior engineer</td>\n",
       "      <td>No</td>\n",
       "      <td>1</td>\n",
       "      <td>Brown</td>\n",
       "      <td>0.368421</td>\n",
       "      <td>0.0</td>\n",
       "    </tr>\n",
       "    <tr>\n",
       "      <th>4</th>\n",
       "      <td>0.0</td>\n",
       "      <td>Missing</td>\n",
       "      <td>0.247573</td>\n",
       "      <td>0.166667</td>\n",
       "      <td>Happy</td>\n",
       "      <td>Missing</td>\n",
       "      <td>0.010490</td>\n",
       "      <td>Albania</td>\n",
       "      <td>0.000470</td>\n",
       "      <td>logistician</td>\n",
       "      <td>Master</td>\n",
       "      <td>1</td>\n",
       "      <td>Black</td>\n",
       "      <td>0.515789</td>\n",
       "      <td>0.0</td>\n",
       "    </tr>\n",
       "  </tbody>\n",
       "</table>\n",
       "</div>"
      ],
      "text/plain": [
       "   Year Housing Situation     Crime  Experience Satisfation with employer  \\\n",
       "0   0.0           Missing  0.160194    0.354167                   Unhappy   \n",
       "1   0.0           Missing  0.121359    0.102083                   Unhappy   \n",
       "2   0.0           Missing  0.165049    0.437500                   Unhappy   \n",
       "3   0.0           Missing  0.339806    0.375000                   Average   \n",
       "4   0.0           Missing  0.247573    0.166667                     Happy   \n",
       "\n",
       "    Gender       Age      Country  Size of City  \\\n",
       "0  Missing  0.325186  Afghanistan      0.000503   \n",
       "1   female  0.031470  Afghanistan      0.045570   \n",
       "2   female  0.356656  Afghanistan      0.016445   \n",
       "3   female  0.293717      Albania      0.001189   \n",
       "4  Missing  0.010490      Albania      0.000470   \n",
       "\n",
       "                                          Profession University Degree  \\\n",
       "0                                         group head                No   \n",
       "1  heavy vehicle and mobile equipment service tec...                No   \n",
       "2                                             sorter          Bachelor   \n",
       "3                    quality control senior engineer                No   \n",
       "4                                        logistician            Master   \n",
       "\n",
       "   Wears Glasses Hair Color    Height  Extra  \n",
       "0              1      Black  0.526316    0.0  \n",
       "1              0      Blond  0.473684    0.0  \n",
       "2              0      Blond  0.326316    0.0  \n",
       "3              1      Brown  0.368421    0.0  \n",
       "4              1      Black  0.515789    0.0  "
      ]
     },
     "execution_count": 17,
     "metadata": {},
     "output_type": "execute_result"
    }
   ],
   "source": [
    "scaler = MinMaxScaler(feature_range=(0, 1))\n",
    "\n",
    "scaler =scaler.fit(combined_df[['Year']])\n",
    "combined_df['Year'] = scaler.transform(combined_df[['Year']]).ravel()\n",
    "\n",
    "\n",
    "scaler =scaler.fit(combined_df[['Age']])\n",
    "combined_df['Age'] = scaler.transform(combined_df[['Age']]).ravel()\n",
    "\n",
    "scaler =scaler.fit(combined_df[['Crime']])\n",
    "combined_df['Crime'] = scaler.transform(combined_df[['Crime']]).ravel()\n",
    "\n",
    "scaler =scaler.fit(combined_df[['Extra']])\n",
    "combined_df['Extra'] = scaler.transform(combined_df[['Extra']]).ravel()\n",
    "\n",
    "\n",
    "scaler =scaler.fit(combined_df[['Experience']])\n",
    "combined_df['Experience'] = scaler.transform(combined_df[['Experience']]).ravel()\n",
    "\n",
    "scaler =scaler.fit(combined_df[['Height']])\n",
    "combined_df['Height'] = scaler.transform(combined_df[['Height']]).ravel()\n",
    "\n",
    "scaler =scaler.fit(combined_df[['Size of City']])\n",
    "combined_df['Size of City'] = scaler.transform(combined_df[['Size of City']]).ravel()\n",
    "combined_df.head()"
   ]
  },
  {
   "cell_type": "code",
   "execution_count": 18,
   "metadata": {},
   "outputs": [
    {
     "data": {
      "image/png": "[encoded data removed]",
      "text/plain": [
       "<Figure size 1152x864 with 2 Axes>"
      ]
     },
     "metadata": {
      "needs_background": "light"
     },
     "output_type": "display_data"
    }
   ],
   "source": [
    "combined_df.drop(columns =['Wears Glasses','Hair Color','Gender','Crime'],inplace= True)\n",
    "\n",
    "le = preprocessing.LabelEncoder()\n",
    "combined_df.Profession = le.fit_transform(combined_df.Profession)\n",
    "\n",
    "f, ax = plt.subplots(figsize=(16, 12))\n",
    "plt.title('Pearson Correlation Matrix',fontsize=25)\n",
    "sns.heatmap(combined_df.corr(),linewidths=0.25,vmax=0.7,square=True,cmap=\"BuGn\",linecolor='w',annot=True,annot_kws={\"size\":8},cbar_kws={\"shrink\": .9});\n",
    "# encoder = ce.HashEncoder(cols=['Profession'])\n",
    "# combined_df_onehot_encoded = encoder.fit_transform(combined_df_onehot_encoded)\n",
    "\n",
    "# combined_df_onehot_encoded.Profession = combined_df_onehot_encoded.Profession.ffill()\n",
    "combined_df_onehot_encoded = pd.get_dummies(combined_df, columns =['Country','University Degree','Satisfation with employer','Profession','Housing Situation'])"
   ]
  },
  {
   "cell_type": "code",
   "execution_count": 19,
   "metadata": {},
   "outputs": [
    {
     "name": "stdout",
     "output_type": "stream",
     "text": [
      "(1048187, 1513)\n",
      "(369438, 1513)\n",
      "(1417625, 1513)\n"
     ]
    }
   ],
   "source": [
    "train_X = combined_df_onehot_encoded.iloc[0:1048187, :]\n",
    "test_X  = combined_df_onehot_encoded.iloc[1048187:, :]\n",
    "print(train_X.shape)\n",
    "print(test_X.shape)\n",
    "print(combined_df_onehot_encoded.shape)"
   ]
  },
  {
   "cell_type": "code",
   "execution_count": 22,
   "metadata": {},
   "outputs": [],
   "source": [
    "reg = RandomForestRegressor(n_estimators=10, random_state=125, min_samples_split=2, n_jobs=-1)\n",
    "y=np.log(y)\n",
    "reg.fit(train_X,y)\n",
    "pred = reg.predict(train_X)\n",
    "prediction = reg.predict(test_X)"
   ]
  },
  {
   "cell_type": "code",
   "execution_count": 20,
   "metadata": {},
   "outputs": [
    {
     "name": "stdout",
     "output_type": "stream",
     "text": [
      "17270.35\n"
     ]
    }
   ],
   "source": [
    "reg = RandomForestRegressor(n_estimators=10, random_state=125, min_samples_split=2, n_jobs=-1)\n",
    "reg.fit(train_X,y)\n",
    "pred = reg.predict(train_X)\n",
    "prediction = reg.predict(test_X)\n",
    "rmsecm = float(format(np.sqrt(metrics.mean_squared_error(y, pred)),'.3f'))\n",
    "print(rmsecm)"
   ]
  },
  {
   "cell_type": "code",
   "execution_count": 23,
   "metadata": {},
   "outputs": [
    {
     "name": "stdout",
     "output_type": "stream",
     "text": [
      "0.014\n"
     ]
    }
   ],
   "source": [
    "rmsecm = float(format(np.sqrt(metrics.mean_squared_error(y, pred)),'.3f'))\n",
    "print(rmsecm)"
   ]
  },
  {
   "cell_type": "code",
   "execution_count": null,
   "metadata": {},
   "outputs": [],
   "source": [
    "submit=pd.read_csv('C:/Users/BadBoy/Desktop/kaggle2/submit.csv',low_memory=False)\n",
    "submit.head(2)"
   ]
  },
  {
   "cell_type": "code",
   "execution_count": null,
   "metadata": {},
   "outputs": [],
   "source": [
    "solution = pd.DataFrame({ 'Instance': submit['Instance'], 'Total Yearly Income [EUR]': prediction })"
   ]
  },
  {
   "cell_type": "code",
   "execution_count": null,
   "metadata": {},
   "outputs": [],
   "source": [
    "solution.to_csv(r'C:/Users/BadBoy/Desktop/kaggle2/sol4.csv',index=False)"
   ]
  },
  {
   "cell_type": "code",
   "execution_count": null,
   "metadata": {},
   "outputs": [],
   "source": []
  },
  {
   "cell_type": "code",
   "execution_count": null,
   "metadata": {},
   "outputs": [],
   "source": [
    "#16174.656"
   ]
  }
 ],
 "metadata": {
  "kernelspec": {
   "display_name": "Python 3",
   "language": "python",
   "name": "python3"
  },
  "language_info": {
   "codemirror_mode": {
    "name": "ipython",
    "version": 3
   },
   "file_extension": ".py",
   "mimetype": "text/x-python",
   "name": "python",
   "nbconvert_exporter": "python",
   "pygments_lexer": "ipython3",
   "version": "3.7.4"
  }
 },
 "nbformat": 4,
 "nbformat_minor": 2
}
